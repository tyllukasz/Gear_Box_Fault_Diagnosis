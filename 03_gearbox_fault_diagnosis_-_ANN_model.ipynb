{
 "cells": [
  {
   "cell_type": "markdown",
   "id": "ba5539ea",
   "metadata": {},
   "source": [
    "# Gear box fault diagnosis"
   ]
  },
  {
   "cell_type": "markdown",
   "id": "1ea2645c",
   "metadata": {},
   "source": [
    "## Imports"
   ]
  },
  {
   "cell_type": "code",
   "execution_count": 1,
   "id": "6ca9d52f",
   "metadata": {},
   "outputs": [],
   "source": [
    "import torch\n",
    "import torch.nn as nn\n",
    "\n",
    "import numpy as np\n",
    "import pandas as pd\n",
    "import matplotlib.pyplot as plt\n",
    "import seaborn as sns"
   ]
  },
  {
   "cell_type": "markdown",
   "id": "953c0147",
   "metadata": {},
   "source": [
    "## Dataset"
   ]
  },
  {
   "cell_type": "code",
   "execution_count": 2,
   "id": "dc6950e9",
   "metadata": {},
   "outputs": [],
   "source": [
    "df = pd.read_csv('Processed_data/processed_and_shuffled_df.csv')\n",
    "#df = df.drop('Unnamed: 0',axis=1)\n",
    "#df = df.sample(frac=1).reset_index(drop=True)"
   ]
  },
  {
   "cell_type": "code",
   "execution_count": 3,
   "id": "939f78fc",
   "metadata": {},
   "outputs": [
    {
     "data": {
      "text/html": [
       "<div>\n",
       "<style scoped>\n",
       "    .dataframe tbody tr th:only-of-type {\n",
       "        vertical-align: middle;\n",
       "    }\n",
       "\n",
       "    .dataframe tbody tr th {\n",
       "        vertical-align: top;\n",
       "    }\n",
       "\n",
       "    .dataframe thead th {\n",
       "        text-align: right;\n",
       "    }\n",
       "</style>\n",
       "<table border=\"1\" class=\"dataframe\">\n",
       "  <thead>\n",
       "    <tr style=\"text-align: right;\">\n",
       "      <th></th>\n",
       "      <th>Unnamed: 0</th>\n",
       "      <th>a1_freq_0</th>\n",
       "      <th>a1_freq_1</th>\n",
       "      <th>a1_freq_2</th>\n",
       "      <th>a1_freq_3</th>\n",
       "      <th>a1_freq_4</th>\n",
       "      <th>a1_freq_5</th>\n",
       "      <th>a1_freq_6</th>\n",
       "      <th>a1_freq_7</th>\n",
       "      <th>a1_freq_8</th>\n",
       "      <th>...</th>\n",
       "      <th>a4_freq_57</th>\n",
       "      <th>a4_freq_58</th>\n",
       "      <th>a4_freq_59</th>\n",
       "      <th>a4_freq_60</th>\n",
       "      <th>a4_freq_61</th>\n",
       "      <th>a4_freq_62</th>\n",
       "      <th>a4_freq_63</th>\n",
       "      <th>a4_freq_64</th>\n",
       "      <th>load</th>\n",
       "      <th>failure</th>\n",
       "    </tr>\n",
       "  </thead>\n",
       "  <tbody>\n",
       "    <tr>\n",
       "      <th>0</th>\n",
       "      <td>0</td>\n",
       "      <td>0.005101</td>\n",
       "      <td>1.247122</td>\n",
       "      <td>0.478911</td>\n",
       "      <td>0.137187</td>\n",
       "      <td>0.416799</td>\n",
       "      <td>0.452218</td>\n",
       "      <td>0.648994</td>\n",
       "      <td>0.428732</td>\n",
       "      <td>1.025357</td>\n",
       "      <td>...</td>\n",
       "      <td>0.235110</td>\n",
       "      <td>1.070931</td>\n",
       "      <td>0.276280</td>\n",
       "      <td>0.662413</td>\n",
       "      <td>0.597808</td>\n",
       "      <td>0.308686</td>\n",
       "      <td>0.246427</td>\n",
       "      <td>0.208248</td>\n",
       "      <td>9.0</td>\n",
       "      <td>0.0</td>\n",
       "    </tr>\n",
       "    <tr>\n",
       "      <th>1</th>\n",
       "      <td>1</td>\n",
       "      <td>0.101887</td>\n",
       "      <td>1.300294</td>\n",
       "      <td>0.460277</td>\n",
       "      <td>0.508689</td>\n",
       "      <td>0.066402</td>\n",
       "      <td>0.143962</td>\n",
       "      <td>0.102928</td>\n",
       "      <td>0.252416</td>\n",
       "      <td>0.741350</td>\n",
       "      <td>...</td>\n",
       "      <td>0.239470</td>\n",
       "      <td>0.093433</td>\n",
       "      <td>0.587990</td>\n",
       "      <td>0.170224</td>\n",
       "      <td>0.251937</td>\n",
       "      <td>0.194196</td>\n",
       "      <td>0.091358</td>\n",
       "      <td>0.172850</td>\n",
       "      <td>6.0</td>\n",
       "      <td>0.0</td>\n",
       "    </tr>\n",
       "    <tr>\n",
       "      <th>2</th>\n",
       "      <td>2</td>\n",
       "      <td>0.114595</td>\n",
       "      <td>0.608045</td>\n",
       "      <td>1.544988</td>\n",
       "      <td>0.133156</td>\n",
       "      <td>0.399378</td>\n",
       "      <td>0.552593</td>\n",
       "      <td>0.395670</td>\n",
       "      <td>0.383603</td>\n",
       "      <td>0.169256</td>\n",
       "      <td>...</td>\n",
       "      <td>0.073918</td>\n",
       "      <td>0.184883</td>\n",
       "      <td>0.054254</td>\n",
       "      <td>0.379204</td>\n",
       "      <td>0.365445</td>\n",
       "      <td>0.113719</td>\n",
       "      <td>0.064615</td>\n",
       "      <td>0.119418</td>\n",
       "      <td>1.0</td>\n",
       "      <td>0.0</td>\n",
       "    </tr>\n",
       "    <tr>\n",
       "      <th>3</th>\n",
       "      <td>3</td>\n",
       "      <td>0.074220</td>\n",
       "      <td>0.706798</td>\n",
       "      <td>0.453239</td>\n",
       "      <td>0.093307</td>\n",
       "      <td>0.521446</td>\n",
       "      <td>0.532933</td>\n",
       "      <td>0.570955</td>\n",
       "      <td>0.428299</td>\n",
       "      <td>0.440809</td>\n",
       "      <td>...</td>\n",
       "      <td>0.356629</td>\n",
       "      <td>0.291972</td>\n",
       "      <td>0.537028</td>\n",
       "      <td>0.367629</td>\n",
       "      <td>0.229246</td>\n",
       "      <td>0.136271</td>\n",
       "      <td>0.173111</td>\n",
       "      <td>0.175452</td>\n",
       "      <td>2.0</td>\n",
       "      <td>1.0</td>\n",
       "    </tr>\n",
       "    <tr>\n",
       "      <th>4</th>\n",
       "      <td>4</td>\n",
       "      <td>0.169813</td>\n",
       "      <td>0.532547</td>\n",
       "      <td>0.877946</td>\n",
       "      <td>0.620596</td>\n",
       "      <td>0.767804</td>\n",
       "      <td>0.900650</td>\n",
       "      <td>0.397537</td>\n",
       "      <td>1.248088</td>\n",
       "      <td>1.579174</td>\n",
       "      <td>...</td>\n",
       "      <td>0.235135</td>\n",
       "      <td>0.311891</td>\n",
       "      <td>0.202014</td>\n",
       "      <td>0.393056</td>\n",
       "      <td>0.180624</td>\n",
       "      <td>0.110899</td>\n",
       "      <td>0.046682</td>\n",
       "      <td>0.126975</td>\n",
       "      <td>8.0</td>\n",
       "      <td>1.0</td>\n",
       "    </tr>\n",
       "  </tbody>\n",
       "</table>\n",
       "<p>5 rows × 263 columns</p>\n",
       "</div>"
      ],
      "text/plain": [
       "   Unnamed: 0  a1_freq_0  a1_freq_1  a1_freq_2  a1_freq_3  a1_freq_4  \\\n",
       "0           0   0.005101   1.247122   0.478911   0.137187   0.416799   \n",
       "1           1   0.101887   1.300294   0.460277   0.508689   0.066402   \n",
       "2           2   0.114595   0.608045   1.544988   0.133156   0.399378   \n",
       "3           3   0.074220   0.706798   0.453239   0.093307   0.521446   \n",
       "4           4   0.169813   0.532547   0.877946   0.620596   0.767804   \n",
       "\n",
       "   a1_freq_5  a1_freq_6  a1_freq_7  a1_freq_8  ...  a4_freq_57  a4_freq_58  \\\n",
       "0   0.452218   0.648994   0.428732   1.025357  ...    0.235110    1.070931   \n",
       "1   0.143962   0.102928   0.252416   0.741350  ...    0.239470    0.093433   \n",
       "2   0.552593   0.395670   0.383603   0.169256  ...    0.073918    0.184883   \n",
       "3   0.532933   0.570955   0.428299   0.440809  ...    0.356629    0.291972   \n",
       "4   0.900650   0.397537   1.248088   1.579174  ...    0.235135    0.311891   \n",
       "\n",
       "   a4_freq_59  a4_freq_60  a4_freq_61  a4_freq_62  a4_freq_63  a4_freq_64  \\\n",
       "0    0.276280    0.662413    0.597808    0.308686    0.246427    0.208248   \n",
       "1    0.587990    0.170224    0.251937    0.194196    0.091358    0.172850   \n",
       "2    0.054254    0.379204    0.365445    0.113719    0.064615    0.119418   \n",
       "3    0.537028    0.367629    0.229246    0.136271    0.173111    0.175452   \n",
       "4    0.202014    0.393056    0.180624    0.110899    0.046682    0.126975   \n",
       "\n",
       "   load  failure  \n",
       "0   9.0      0.0  \n",
       "1   6.0      0.0  \n",
       "2   1.0      0.0  \n",
       "3   2.0      1.0  \n",
       "4   8.0      1.0  \n",
       "\n",
       "[5 rows x 263 columns]"
      ]
     },
     "execution_count": 3,
     "metadata": {},
     "output_type": "execute_result"
    }
   ],
   "source": [
    "df.head()"
   ]
  },
  {
   "cell_type": "code",
   "execution_count": 4,
   "id": "842b1812",
   "metadata": {},
   "outputs": [
    {
     "name": "stdout",
     "output_type": "stream",
     "text": [
      "<class 'pandas.core.frame.DataFrame'>\n",
      "RangeIndex: 15789 entries, 0 to 15788\n",
      "Columns: 263 entries, Unnamed: 0 to failure\n",
      "dtypes: float64(262), int64(1)\n",
      "memory usage: 31.7 MB\n"
     ]
    }
   ],
   "source": [
    "df.info()"
   ]
  },
  {
   "cell_type": "code",
   "execution_count": 5,
   "id": "b6cdf505",
   "metadata": {},
   "outputs": [],
   "source": [
    "#df.corr()"
   ]
  },
  {
   "cell_type": "code",
   "execution_count": 12,
   "id": "2b87397f",
   "metadata": {},
   "outputs": [
    {
     "data": {
      "text/plain": [
       "<matplotlib.axes._subplots.AxesSubplot at 0x7f14f7f0d278>"
      ]
     },
     "execution_count": 12,
     "metadata": {},
     "output_type": "execute_result"
    },
    {
     "data": {
      "image/png": "[encoded data removed]",
      "text/plain": [
       "<Figure size 432x288 with 1 Axes>"
      ]
     },
     "metadata": {
      "needs_background": "light"
     },
     "output_type": "display_data"
    }
   ],
   "source": [
    "#sns.kdeplot(data = df, x='a1_freq_1')\n",
    "#sns.distplot(data=df,x='a1_freq_1'))\n",
    "#df['a1_freq_0'].mean()\n",
    "sns.distplot(df['a1_freq_1'],)"
   ]
  },
  {
   "cell_type": "markdown",
   "id": "d1f9ce5d",
   "metadata": {},
   "source": [
    "## Separate categorical from continuous columns"
   ]
  },
  {
   "cell_type": "code",
   "execution_count": null,
   "id": "9caecda0",
   "metadata": {},
   "outputs": [],
   "source": [
    "df.columns"
   ]
  },
  {
   "cell_type": "code",
   "execution_count": null,
   "id": "482eb98e",
   "metadata": {},
   "outputs": [],
   "source": [
    "cat_cols = ['load']\n",
    "cont_cols = df.columns[0:-2]\n",
    "y_col = ['failure']  # this column contains the labels"
   ]
  },
  {
   "cell_type": "code",
   "execution_count": null,
   "id": "6081dcd3",
   "metadata": {},
   "outputs": [],
   "source": [
    "# Convert categorical columns to category dtypes.\n",
    "for cat in cat_cols:\n",
    "    df[cat] = df[cat].astype('category')"
   ]
  },
  {
   "cell_type": "code",
   "execution_count": null,
   "id": "623f036d",
   "metadata": {},
   "outputs": [],
   "source": [
    "df['load'].cat.categories"
   ]
  },
  {
   "cell_type": "code",
   "execution_count": null,
   "id": "16e4c795",
   "metadata": {},
   "outputs": [],
   "source": [
    "#categories to numpy array\n",
    "cats = np.stack([df[col].cat.codes.values for col in cat_cols], 1)"
   ]
  },
  {
   "cell_type": "code",
   "execution_count": null,
   "id": "bcfcd124",
   "metadata": {},
   "outputs": [],
   "source": [
    "cats[:10]"
   ]
  },
  {
   "cell_type": "markdown",
   "id": "ca4fe85a",
   "metadata": {},
   "source": [
    "## Numpy arrays to Tensors"
   ]
  },
  {
   "cell_type": "code",
   "execution_count": null,
   "id": "a3ad2590",
   "metadata": {},
   "outputs": [],
   "source": [
    "# converting categorical values to tensor\n",
    "cats = torch.tensor(cats, dtype=torch.int64)\n",
    "cats[:5]"
   ]
  },
  {
   "cell_type": "code",
   "execution_count": null,
   "id": "817c1803",
   "metadata": {},
   "outputs": [],
   "source": [
    "# Convert continuous variables to a tensor\n",
    "conts = np.stack([df[col].values for col in cont_cols], 1)\n",
    "conts = torch.tensor(conts, dtype=torch.float32)\n",
    "conts[:5]"
   ]
  },
  {
   "cell_type": "code",
   "execution_count": null,
   "id": "a54a448c",
   "metadata": {},
   "outputs": [],
   "source": [
    "conts.shape"
   ]
  },
  {
   "cell_type": "code",
   "execution_count": null,
   "id": "d695126f",
   "metadata": {},
   "outputs": [],
   "source": [
    "conts.type()"
   ]
  },
  {
   "cell_type": "code",
   "execution_count": null,
   "id": "6c34257b",
   "metadata": {},
   "outputs": [],
   "source": [
    "# Convert labels to a tensor\n",
    "y = torch.tensor(df[y_col].values,dtype=torch.long).flatten()\n",
    "\n",
    "y[:5]"
   ]
  },
  {
   "cell_type": "code",
   "execution_count": null,
   "id": "52ad925e",
   "metadata": {},
   "outputs": [],
   "source": [
    "y.shape"
   ]
  },
  {
   "cell_type": "markdown",
   "id": "0fb16a13",
   "metadata": {},
   "source": [
    "## Embeddings"
   ]
  },
  {
   "cell_type": "code",
   "execution_count": null,
   "id": "53482a1d",
   "metadata": {},
   "outputs": [],
   "source": [
    "# This will set embedding sizes 'load'\n",
    "cat_szs = [len(df[col].cat.categories) for col in cat_cols]\n",
    "emb_szs = [(size, min(50, (size+1)//2)) for size in cat_szs]\n",
    "emb_szs"
   ]
  },
  {
   "cell_type": "markdown",
   "id": "fc5175ef",
   "metadata": {},
   "source": [
    "## Tabular model"
   ]
  },
  {
   "cell_type": "code",
   "execution_count": null,
   "id": "dd329677",
   "metadata": {},
   "outputs": [],
   "source": [
    "class TabularModel(nn.Module):\n",
    "    \n",
    "    # emb_szs - embeding sizes\n",
    "    # n_count - number of continous features\n",
    "    # out_sz - output size\n",
    "    # layers - list of layers\n",
    "    # p - probability for dropouts\n",
    "    \n",
    "    def __init__(self,emb_szs,n_cont,out_sz,layers,p=0.5):\n",
    "        \n",
    "        super().__init__()\n",
    "        self.embeds = nn.ModuleList([nn.Embedding(ni, nf) for ni,nf in emb_szs])\n",
    "        self.emb_drop = nn.Dropout(p)\n",
    "        self.bn_cont = nn.BatchNorm1d(n_cont)\n",
    "        \n",
    "        layerlist = []\n",
    "        n_emb = sum((nf for ni,nf in emb_szs))\n",
    "        n_in = n_emb + n_cont\n",
    "        \n",
    "        for i in layers:\n",
    "            layerlist.append(nn.Linear(n_in,i)) \n",
    "            layerlist.append(nn.ReLU(inplace=True))\n",
    "            layerlist.append(nn.BatchNorm1d(i))\n",
    "            layerlist.append(nn.Dropout(p))\n",
    "            n_in = i\n",
    "            \n",
    "        layerlist.append(nn.Linear(layers[-1],out_sz))\n",
    "        \n",
    "        self.layers = nn.Sequential(*layerlist)\n",
    "        \n",
    "        \n",
    "    \n",
    "    def forward(self, x_cat, x_cont):\n",
    "        \n",
    "        embeddings = []\n",
    "        \n",
    "        for i,e in enumerate(self.embeds):\n",
    "            embeddings.append(e(x_cat[:,i]))\n",
    "            \n",
    "        x = torch.cat(embeddings, 1)\n",
    "        x = self.emb_drop(x)\n",
    "        \n",
    "        x_cont = self.bn_cont(x_cont)\n",
    "        x = torch.cat([x, x_cont], 1)\n",
    "        x = self.layers(x)\n",
    "        \n",
    "        return x\n",
    "    "
   ]
  },
  {
   "cell_type": "code",
   "execution_count": null,
   "id": "88735b64",
   "metadata": {},
   "outputs": [],
   "source": [
    "torch.manual_seed(17)\n",
    "model = TabularModel(emb_szs, conts.shape[1], 2, [50,30], p=0.4) # out_sz = 2"
   ]
  },
  {
   "cell_type": "code",
   "execution_count": null,
   "id": "96ee3a2c",
   "metadata": {},
   "outputs": [],
   "source": [
    "model"
   ]
  },
  {
   "cell_type": "markdown",
   "id": "41cc0108",
   "metadata": {},
   "source": [
    "## Define loss function & optimizer"
   ]
  },
  {
   "cell_type": "code",
   "execution_count": null,
   "id": "0ad3b6db",
   "metadata": {},
   "outputs": [],
   "source": [
    "criterion = nn.CrossEntropyLoss()\n",
    "optimizer = torch.optim.Adam(model.parameters(), lr=0.001)"
   ]
  },
  {
   "cell_type": "markdown",
   "id": "b0539d5a",
   "metadata": {},
   "source": [
    "## Train/test splits"
   ]
  },
  {
   "cell_type": "code",
   "execution_count": null,
   "id": "6c369334",
   "metadata": {},
   "outputs": [],
   "source": [
    "batch_size = 15789\n",
    "test_size = 5000\n",
    "\n",
    "cat_train = cats[:batch_size-test_size]\n",
    "cat_test = cats[batch_size-test_size:batch_size]\n",
    "con_train = conts[:batch_size-test_size]\n",
    "con_test = conts[batch_size-test_size:batch_size]\n",
    "y_train = y[:batch_size-test_size]\n",
    "y_test = y[batch_size-test_size:batch_size]"
   ]
  },
  {
   "cell_type": "code",
   "execution_count": null,
   "id": "ecfe22a0",
   "metadata": {},
   "outputs": [],
   "source": [
    "type(y_train)"
   ]
  },
  {
   "cell_type": "markdown",
   "id": "28c70da0",
   "metadata": {},
   "source": [
    "## Train the model"
   ]
  },
  {
   "cell_type": "code",
   "execution_count": null,
   "id": "e069ae92",
   "metadata": {},
   "outputs": [],
   "source": [
    "import time\n",
    "start_time = time.time()\n",
    "\n",
    "epochs = 100\n",
    "losses = []\n",
    "test_losses = []\n",
    "\n",
    "for i in range(epochs):\n",
    "    i+=1\n",
    "    y_pred = model(cat_train, con_train)\n",
    "    loss = criterion(y_pred, y_train)\n",
    "    losses.append(loss)\n",
    "    \n",
    "    # a neat trick to save screen space:\n",
    "    if i%10 == 1:\n",
    "        print(f'epoch: {i:3}  loss: {loss.item():10.8f}')\n",
    "        \n",
    "        \n",
    "    with torch.no_grad():\n",
    "        y_val = model(cat_test, con_test)\n",
    "        test_loss = criterion(y_val, y_test)\n",
    "        test_losses.append(test_loss)\n",
    "\n",
    "    optimizer.zero_grad()\n",
    "    loss.backward()\n",
    "    optimizer.step()\n",
    "\n",
    "print(f'epoch: {i:3}  loss: {loss.item():10.8f}') # print the last line\n",
    "print(f'\\nDuration: {time.time() - start_time:.0f} seconds') # print the time elapsed"
   ]
  },
  {
   "cell_type": "markdown",
   "id": "ae109ac7",
   "metadata": {},
   "source": [
    "## Plot the loss function"
   ]
  },
  {
   "cell_type": "code",
   "execution_count": null,
   "id": "39dbd46e",
   "metadata": {},
   "outputs": [],
   "source": [
    "plt.plot(range(epochs), losses,label='train')\n",
    "plt.plot(range(epochs), test_losses,label='test')\n",
    "plt.legend()\n",
    "plt.ylabel('Cross Entropy Loss')\n",
    "plt.xlabel('epoch');"
   ]
  },
  {
   "cell_type": "markdown",
   "id": "10914095",
   "metadata": {},
   "source": [
    "## Validation"
   ]
  },
  {
   "cell_type": "code",
   "execution_count": null,
   "id": "bc39717a",
   "metadata": {},
   "outputs": [],
   "source": [
    "# TO EVALUATE THE ENTIRE TEST SET\n",
    "with torch.no_grad():\n",
    "    y_val = model(cat_test, con_test)\n",
    "    loss = criterion(y_val, y_test)\n",
    "print(f'CE Loss: {loss:.8f}')"
   ]
  },
  {
   "cell_type": "code",
   "execution_count": null,
   "id": "599c2869",
   "metadata": {},
   "outputs": [],
   "source": [
    "from sklearn.metrics import confusion_matrix, classification_report"
   ]
  },
  {
   "cell_type": "code",
   "execution_count": null,
   "id": "07685202",
   "metadata": {},
   "outputs": [],
   "source": [
    "y_pred = []\n",
    "\n",
    "for i in range(0,len(y_val)):\n",
    "    y_pred.append(y_val[i].argmax().item())"
   ]
  },
  {
   "cell_type": "code",
   "execution_count": null,
   "id": "653c4506",
   "metadata": {},
   "outputs": [],
   "source": [
    "confusion_matrix(y_test,y_pred)"
   ]
  },
  {
   "cell_type": "code",
   "execution_count": null,
   "id": "130bf6e2",
   "metadata": {},
   "outputs": [],
   "source": [
    "print(classification_report(y_test,y_pred))"
   ]
  },
  {
   "cell_type": "code",
   "execution_count": null,
   "id": "0d95c764",
   "metadata": {},
   "outputs": [],
   "source": []
  },
  {
   "cell_type": "code",
   "execution_count": null,
   "id": "7bcc2cfb",
   "metadata": {},
   "outputs": [],
   "source": []
  },
  {
   "cell_type": "code",
   "execution_count": null,
   "id": "d7e75461",
   "metadata": {},
   "outputs": [],
   "source": []
  },
  {
   "cell_type": "code",
   "execution_count": null,
   "id": "30d7b774",
   "metadata": {},
   "outputs": [],
   "source": []
  },
  {
   "cell_type": "code",
   "execution_count": null,
   "id": "790efc25",
   "metadata": {},
   "outputs": [],
   "source": []
  },
  {
   "cell_type": "code",
   "execution_count": null,
   "id": "f117dd58",
   "metadata": {},
   "outputs": [],
   "source": []
  },
  {
   "cell_type": "code",
   "execution_count": null,
   "id": "b74a1766",
   "metadata": {},
   "outputs": [],
   "source": []
  }
 ],
 "metadata": {
  "kernelspec": {
   "display_name": "Python 3",
   "language": "python",
   "name": "python3"
  },
  "language_info": {
   "codemirror_mode": {
    "name": "ipython",
    "version": 3
   },
   "file_extension": ".py",
   "mimetype": "text/x-python",
   "name": "python",
   "nbconvert_exporter": "python",
   "pygments_lexer": "ipython3",
   "version": "3.7.10"
  }
 },
 "nbformat": 4,
 "nbformat_minor": 5
}
